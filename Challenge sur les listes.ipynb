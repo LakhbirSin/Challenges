{
 "cells": [
  {
   "cell_type": "markdown",
   "id": "928d127a",
   "metadata": {},
   "source": [
    "# Challenge sur les listes"
   ]
  },
  {
   "cell_type": "code",
   "execution_count": 131,
   "id": "8b0ec874",
   "metadata": {},
   "outputs": [
    {
     "name": "stdout",
     "output_type": "stream",
     "text": [
      "[441530, 545133, 473441, 489759, 538818, 349354, 425322, 284202, 325484, 665305, 327418, 525633, 205862, 522562, 690034, 634077, 656982, 312987, 320261, 443995, 474711, 658620, 683984, 129374, 157184, 182792, 437823, 413912, 634991, 611144, 539023, 271188, 141577, 132865, 333945, 309130, 260533, 229564, 207037, 526126, 245354, 384391, 473770, 269293, 198249, 584037, 144572, 525280, 180724, 134222, 471722, 150732, 562568, 407899, 251560, 368782, 603008, 411440]\n"
     ]
    }
   ],
   "source": [
    "#importation libraries\n",
    "import random\n",
    "# Création de la liste\n",
    "prix_de_58_maisons = []\n",
    "for M in range (58):\n",
    "      prix_de_58_maisons.append(random.randint(125000,700000))\n",
    "print(prix_de_58_maisons)"
   ]
  },
  {
   "cell_type": "code",
   "execution_count": 132,
   "id": "dc743009",
   "metadata": {},
   "outputs": [
    {
     "name": "stdout",
     "output_type": "stream",
     "text": [
      "il ya  39 maisons ont un prix supérieur ou égal à 300 000 euros\n",
      "il ya  14 maisons ont un prix compris entre 250 000 et 400 000 euros\n",
      "il ya  49  maisons ont un prix qui n’est pas supérieur à 600 000 euros\n",
      "il ya  5 maisons ont un prix inférieur à 150 000 euros ou supérieur à 650 000 euros \n"
     ]
    }
   ],
   "source": [
    "# Boucle pour répondre aux questions 2,3,4,5,6.\n",
    "price= 0\n",
    "price2= 0\n",
    "price3= 0\n",
    "price4= 0\n",
    "\n",
    "for i in prix_de_58_maisons:\n",
    "    # si prix supérieur \n",
    "    if  i > 300000:\n",
    "        price+=1\n",
    "    # prix compris entre\n",
    "    if  250000 <i< 400000:\n",
    "        price2+=1\n",
    "    # si prix inférieur\n",
    "    if  i <600000:\n",
    "        price3+=1\n",
    "    # si prix inférieur à 150000 ou supérieur à 650000\n",
    "    if  150000 <i> 650000:\n",
    "        price4+=1\n",
    "print(\"il ya \",str(price), \"maisons ont un prix supérieur ou égal à 300 000 euros\")\n",
    "print(\"il ya \",str(price2),\"maisons ont un prix compris entre 250 000 et 400 000 euros\")\n",
    "print(\"il ya \",str(price3),\" maisons ont un prix qui n’est pas supérieur à 600 000 euros\")\n",
    "print(\"il ya \",str(price4),\"maisons ont un prix inférieur à 150 000 euros ou supérieur à 650 000 euros \")"
   ]
  },
  {
   "cell_type": "code",
   "execution_count": null,
   "id": "311405a7",
   "metadata": {},
   "outputs": [],
   "source": []
  }
 ],
 "metadata": {
  "kernelspec": {
   "display_name": "Python 3 (ipykernel)",
   "language": "python",
   "name": "python3"
  },
  "language_info": {
   "codemirror_mode": {
    "name": "ipython",
    "version": 3
   },
   "file_extension": ".py",
   "mimetype": "text/x-python",
   "name": "python",
   "nbconvert_exporter": "python",
   "pygments_lexer": "ipython3",
   "version": "3.9.12"
  }
 },
 "nbformat": 4,
 "nbformat_minor": 5
}
