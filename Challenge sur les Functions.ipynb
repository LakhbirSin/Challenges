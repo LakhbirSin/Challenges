{
 "cells": [
  {
   "cell_type": "markdown",
   "id": "c8258d77",
   "metadata": {},
   "source": [
    "## La Moyenne"
   ]
  },
  {
   "cell_type": "code",
   "execution_count": 1,
   "id": "178562eb",
   "metadata": {},
   "outputs": [
    {
     "name": "stdout",
     "output_type": "stream",
     "text": [
      "La moyenne est de 45\n"
     ]
    }
   ],
   "source": [
    "# création de la List\n",
    "list = [1,2,3,4,5,6,7,8,9]\n",
    "print(\"La moyenne est de \" + str(sum(list)))"
   ]
  },
  {
   "cell_type": "markdown",
   "id": "06f882a1",
   "metadata": {},
   "source": [
    "## La Médiane"
   ]
  },
  {
   "cell_type": "code",
   "execution_count": 2,
   "id": "ed265c9e",
   "metadata": {},
   "outputs": [
    {
     "name": "stdout",
     "output_type": "stream",
     "text": [
      "5 est la mediane\n"
     ]
    }
   ],
   "source": [
    "# n = longueur du list\n",
    "n = len(list)\n",
    "\n",
    "if n % 2 == 0:\n",
    "    # % paire ou impaire\n",
    "    l1 = list[n//2]\n",
    "    l2 = list[n//2 - 1]\n",
    "    l3 = (l1+l2)/2\n",
    "else:\n",
    "    l3= list[n//2]\n",
    "                   \n",
    "print(str(l3) + \" est la mediane\")"
   ]
  },
  {
   "cell_type": "code",
   "execution_count": 3,
   "id": "75828914",
   "metadata": {},
   "outputs": [
    {
     "name": "stdout",
     "output_type": "stream",
     "text": [
      "La médiane est égale à : 5.0\n"
     ]
    }
   ],
   "source": [
    "n= len(list)\n",
    "sum=0\n",
    "for i in range(n):\n",
    "    sum = sum+ list[i]\n",
    "\n",
    "\n",
    "mean=sum/n\n",
    "print ('La médiane est égale à : ' + str(mean))"
   ]
  },
  {
   "cell_type": "markdown",
   "id": "1faaa5b9",
   "metadata": {},
   "source": [
    "## La Variance"
   ]
  },
  {
   "cell_type": "code",
   "execution_count": 7,
   "id": "de7a4c4d",
   "metadata": {},
   "outputs": [
    {
     "name": "stdout",
     "output_type": "stream",
     "text": [
      "La variance est de : 6.666666666666667\n"
     ]
    }
   ],
   "source": [
    "sum1=0\n",
    "for i in range(n):\n",
    "    sum1=sum1+ (list[i]-mean)**2\n",
    "\n",
    "var=sum1/n\n",
    "print (\"La variance est de : \" + str(var))"
   ]
  },
  {
   "cell_type": "markdown",
   "id": "24383dda",
   "metadata": {},
   "source": [
    "## L'ecart type"
   ]
  },
  {
   "cell_type": "code",
   "execution_count": 9,
   "id": "0747d037",
   "metadata": {},
   "outputs": [
    {
     "name": "stdout",
     "output_type": "stream",
     "text": [
      "l'ecart type est : 2.581988897471611\n"
     ]
    }
   ],
   "source": [
    "print(\"l'ecart type est : \" + str(pow(var,0.5)))"
   ]
  },
  {
   "cell_type": "code",
   "execution_count": null,
   "id": "36667945",
   "metadata": {},
   "outputs": [],
   "source": []
  },
  {
   "cell_type": "code",
   "execution_count": null,
   "id": "4b3030c8",
   "metadata": {},
   "outputs": [],
   "source": []
  }
 ],
 "metadata": {
  "kernelspec": {
   "display_name": "Python 3 (ipykernel)",
   "language": "python",
   "name": "python3"
  },
  "language_info": {
   "codemirror_mode": {
    "name": "ipython",
    "version": 3
   },
   "file_extension": ".py",
   "mimetype": "text/x-python",
   "name": "python",
   "nbconvert_exporter": "python",
   "pygments_lexer": "ipython3",
   "version": "3.9.12"
  }
 },
 "nbformat": 4,
 "nbformat_minor": 5
}
