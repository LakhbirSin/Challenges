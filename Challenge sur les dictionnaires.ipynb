{
 "cells": [
  {
   "cell_type": "markdown",
   "id": "2d948dce",
   "metadata": {},
   "source": [
    "## Création Dictionnaire"
   ]
  },
  {
   "cell_type": "code",
   "execution_count": 8,
   "id": "b50b0e6a",
   "metadata": {},
   "outputs": [
    {
     "data": {
      "text/plain": [
       "{'Marie': 15,\n",
       " 'Samuel': 17,\n",
       " 'Gaston': 12,\n",
       " 'Fred': 10,\n",
       " 'Mae': 5,\n",
       " 'Julie': 15,\n",
       " 'Zoe': 7,\n",
       " 'Claire': 20,\n",
       " 'Chloe': 8,\n",
       " 'Julien': 14,\n",
       " 'Gael': 9,\n",
       " 'Samia': 15,\n",
       " 'Omar': 11,\n",
       " 'Gabriel': 16,\n",
       " 'Manon': 2}"
      ]
     },
     "execution_count": 8,
     "metadata": {},
     "output_type": "execute_result"
    }
   ],
   "source": [
    "ventes_commerciaux = {\"Marie\":15, \"Samuel\":17,  \"Gaston\":12,  \"Fred\":10, \"Mae\":5,  \"Julie\":15, \"Zoe\":7, \"Claire\":20,\n",
    "                      \"Chloe\":8,\"Julien\":14,\"Gael\":9, \"Samia\":15, \"Omar\":11, \"Gabriel\":16, \"Manon\": 2}\n",
    "ventes_commerciaux"
   ]
  },
  {
   "cell_type": "markdown",
   "id": "8f3c0e31",
   "metadata": {},
   "source": [
    "## Moyenne des ventes"
   ]
  },
  {
   "cell_type": "code",
   "execution_count": 2,
   "id": "988ad6aa",
   "metadata": {},
   "outputs": [
    {
     "name": "stdout",
     "output_type": "stream",
     "text": [
      "La moyenne est de : 11.733333333333333\n"
     ]
    }
   ],
   "source": [
    "M = sum(ventes_commerciaux.values())/len(ventes_commerciaux.values())\n",
    "print(\"La moyenne est de : \" + str(M))"
   ]
  },
  {
   "cell_type": "markdown",
   "id": "982bf4d3",
   "metadata": {},
   "source": [
    "## Nombre total de vendeurs"
   ]
  },
  {
   "cell_type": "code",
   "execution_count": 3,
   "id": "198fc443",
   "metadata": {},
   "outputs": [
    {
     "name": "stdout",
     "output_type": "stream",
     "text": [
      "Le nombre total des vendeurs est de : 15\n"
     ]
    }
   ],
   "source": [
    "V = len(ventes_commerciaux.keys())\n",
    "print(\"Le nombre total des vendeurs est de : \" + str(V))"
   ]
  },
  {
   "cell_type": "markdown",
   "id": "5923b8c7",
   "metadata": {},
   "source": [
    "### Nombre des commerciaux dont la vente audessus de la moyenne"
   ]
  },
  {
   "cell_type": "code",
   "execution_count": 4,
   "id": "6a44332c",
   "metadata": {},
   "outputs": [
    {
     "name": "stdout",
     "output_type": "stream",
     "text": [
      "8\n"
     ]
    }
   ],
   "source": [
    "p =0\n",
    "cm = ventes_commerciaux.items()\n",
    "for i in cm:\n",
    "    if i[1] > M:\n",
    "        p+=1\n",
    "\n",
    "print(p)"
   ]
  },
  {
   "cell_type": "markdown",
   "id": "d3b330af",
   "metadata": {},
   "source": [
    "## Meilleur Vendeur"
   ]
  },
  {
   "cell_type": "code",
   "execution_count": 5,
   "id": "e023707b",
   "metadata": {},
   "outputs": [
    {
     "name": "stdout",
     "output_type": "stream",
     "text": [
      "Le meilleur vendeur est : Claire\n"
     ]
    }
   ],
   "source": [
    "meilleur = max(ventes_commerciaux.values())\n",
    "for i in ventes_commerciaux:\n",
    "    if ventes_commerciaux[i] == meilleur:\n",
    "        print(\"Le meilleur vendeur est : \" +(i))"
   ]
  },
  {
   "cell_type": "markdown",
   "id": "e9e16465",
   "metadata": {},
   "source": [
    "### Vendeur ayant un prénom moins de 4 lettres"
   ]
  },
  {
   "cell_type": "code",
   "execution_count": 9,
   "id": "dbf1d466",
   "metadata": {},
   "outputs": [
    {
     "name": "stdout",
     "output_type": "stream",
     "text": [
      "Mae\n",
      "Zoe\n"
     ]
    }
   ],
   "source": [
    "for keys , values in ventes_commerciaux.items():\n",
    "    if len(keys) < 4:\n",
    "        print(keys)"
   ]
  },
  {
   "cell_type": "markdown",
   "id": "e721d580",
   "metadata": {},
   "source": [
    "## Vendeur avec le nombre de ventes pair"
   ]
  },
  {
   "cell_type": "code",
   "execution_count": 7,
   "id": "2e5d0835",
   "metadata": {},
   "outputs": [
    {
     "name": "stdout",
     "output_type": "stream",
     "text": [
      "Gaston\n",
      "Fred\n",
      "Claire\n",
      "Chloe\n",
      "Julien\n",
      "Gabriel\n",
      "Manon\n"
     ]
    }
   ],
   "source": [
    "for i in ventes_commerciaux:\n",
    "    if ventes_commerciaux[i] % 2 == 0:\n",
    "        \n",
    "        print((i))"
   ]
  },
  {
   "cell_type": "code",
   "execution_count": null,
   "id": "ff6acd47",
   "metadata": {},
   "outputs": [],
   "source": []
  }
 ],
 "metadata": {
  "kernelspec": {
   "display_name": "Python 3 (ipykernel)",
   "language": "python",
   "name": "python3"
  },
  "language_info": {
   "codemirror_mode": {
    "name": "ipython",
    "version": 3
   },
   "file_extension": ".py",
   "mimetype": "text/x-python",
   "name": "python",
   "nbconvert_exporter": "python",
   "pygments_lexer": "ipython3",
   "version": "3.9.12"
  }
 },
 "nbformat": 4,
 "nbformat_minor": 5
}
