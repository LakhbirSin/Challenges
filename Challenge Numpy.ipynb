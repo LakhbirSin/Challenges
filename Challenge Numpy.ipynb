{
 "cells": [
  {
   "cell_type": "code",
   "execution_count": 2,
   "id": "512ed0bc",
   "metadata": {},
   "outputs": [],
   "source": [
    "# importation libraries\n",
    "import numpy as np\n",
    "import pandas as pd"
   ]
  },
  {
   "cell_type": "code",
   "execution_count": 3,
   "id": "935fef8a",
   "metadata": {},
   "outputs": [
    {
     "data": {
      "text/html": [
       "<div>\n",
       "<style scoped>\n",
       "    .dataframe tbody tr th:only-of-type {\n",
       "        vertical-align: middle;\n",
       "    }\n",
       "\n",
       "    .dataframe tbody tr th {\n",
       "        vertical-align: top;\n",
       "    }\n",
       "\n",
       "    .dataframe thead th {\n",
       "        text-align: right;\n",
       "    }\n",
       "</style>\n",
       "<table border=\"1\" class=\"dataframe\">\n",
       "  <thead>\n",
       "    <tr style=\"text-align: right;\">\n",
       "      <th></th>\n",
       "      <th>ville</th>\n",
       "      <th>année</th>\n",
       "      <th>temps</th>\n",
       "      <th>secondes</th>\n",
       "      <th>estPARIS</th>\n",
       "      <th>estBERLIN</th>\n",
       "    </tr>\n",
       "  </thead>\n",
       "  <tbody>\n",
       "    <tr>\n",
       "      <th>0</th>\n",
       "      <td>PARIS</td>\n",
       "      <td>2011</td>\n",
       "      <td>02:06:29</td>\n",
       "      <td>7589</td>\n",
       "      <td>NaN</td>\n",
       "      <td>NaN</td>\n",
       "    </tr>\n",
       "    <tr>\n",
       "      <th>1</th>\n",
       "      <td>PARIS</td>\n",
       "      <td>2010</td>\n",
       "      <td>02:06:41</td>\n",
       "      <td>7601</td>\n",
       "      <td>NaN</td>\n",
       "      <td>NaN</td>\n",
       "    </tr>\n",
       "    <tr>\n",
       "      <th>2</th>\n",
       "      <td>PARIS</td>\n",
       "      <td>2009</td>\n",
       "      <td>02:05:47</td>\n",
       "      <td>7547</td>\n",
       "      <td>NaN</td>\n",
       "      <td>NaN</td>\n",
       "    </tr>\n",
       "    <tr>\n",
       "      <th>3</th>\n",
       "      <td>PARIS</td>\n",
       "      <td>2008</td>\n",
       "      <td>02:06:40</td>\n",
       "      <td>7600</td>\n",
       "      <td>NaN</td>\n",
       "      <td>NaN</td>\n",
       "    </tr>\n",
       "    <tr>\n",
       "      <th>4</th>\n",
       "      <td>PARIS</td>\n",
       "      <td>2007</td>\n",
       "      <td>02:07:17</td>\n",
       "      <td>7637</td>\n",
       "      <td>NaN</td>\n",
       "      <td>NaN</td>\n",
       "    </tr>\n",
       "    <tr>\n",
       "      <th>...</th>\n",
       "      <td>...</td>\n",
       "      <td>...</td>\n",
       "      <td>...</td>\n",
       "      <td>...</td>\n",
       "      <td>...</td>\n",
       "      <td>...</td>\n",
       "    </tr>\n",
       "    <tr>\n",
       "      <th>354</th>\n",
       "      <td>CHICAGO</td>\n",
       "      <td>2006</td>\n",
       "      <td>02:07:35</td>\n",
       "      <td>7655</td>\n",
       "      <td>NaN</td>\n",
       "      <td>NaN</td>\n",
       "    </tr>\n",
       "    <tr>\n",
       "      <th>355</th>\n",
       "      <td>CHICAGO</td>\n",
       "      <td>2007</td>\n",
       "      <td>02:11:11</td>\n",
       "      <td>7871</td>\n",
       "      <td>NaN</td>\n",
       "      <td>NaN</td>\n",
       "    </tr>\n",
       "    <tr>\n",
       "      <th>356</th>\n",
       "      <td>CHICAGO</td>\n",
       "      <td>2008</td>\n",
       "      <td>02:06:25</td>\n",
       "      <td>7585</td>\n",
       "      <td>NaN</td>\n",
       "      <td>NaN</td>\n",
       "    </tr>\n",
       "    <tr>\n",
       "      <th>357</th>\n",
       "      <td>CHICAGO</td>\n",
       "      <td>2009</td>\n",
       "      <td>02:05:41</td>\n",
       "      <td>7541</td>\n",
       "      <td>NaN</td>\n",
       "      <td>NaN</td>\n",
       "    </tr>\n",
       "    <tr>\n",
       "      <th>358</th>\n",
       "      <td>CHICAGO</td>\n",
       "      <td>2010</td>\n",
       "      <td>02:06:23</td>\n",
       "      <td>7583</td>\n",
       "      <td>NaN</td>\n",
       "      <td>NaN</td>\n",
       "    </tr>\n",
       "  </tbody>\n",
       "</table>\n",
       "<p>359 rows × 6 columns</p>\n",
       "</div>"
      ],
      "text/plain": [
       "       ville  année     temps  secondes  estPARIS  estBERLIN\n",
       "0      PARIS   2011  02:06:29      7589       NaN        NaN\n",
       "1      PARIS   2010  02:06:41      7601       NaN        NaN\n",
       "2      PARIS   2009  02:05:47      7547       NaN        NaN\n",
       "3      PARIS   2008  02:06:40      7600       NaN        NaN\n",
       "4      PARIS   2007  02:07:17      7637       NaN        NaN\n",
       "..       ...    ...       ...       ...       ...        ...\n",
       "354  CHICAGO   2006  02:07:35      7655       NaN        NaN\n",
       "355  CHICAGO   2007  02:11:11      7871       NaN        NaN\n",
       "356  CHICAGO   2008  02:06:25      7585       NaN        NaN\n",
       "357  CHICAGO   2009  02:05:41      7541       NaN        NaN\n",
       "358  CHICAGO   2010  02:06:23      7583       NaN        NaN\n",
       "\n",
       "[359 rows x 6 columns]"
      ]
     },
     "execution_count": 3,
     "metadata": {},
     "output_type": "execute_result"
    }
   ],
   "source": [
    "# creation tableau marathon\n",
    "data = pd.read_table(\"marathon.txt\", names = [\"ville\",\"année\",\"temps\",\"secondes\",\"estPARIS\",\"estBERLIN\"])\n",
    "data"
   ]
  },
  {
   "cell_type": "code",
   "execution_count": 4,
   "id": "8fd382e9",
   "metadata": {},
   "outputs": [
    {
     "name": "stderr",
     "output_type": "stream",
     "text": [
      "C:\\Users\\utilisateur\\AppData\\Local\\Temp\\ipykernel_6468\\2037176060.py:4: SettingWithCopyWarning: \n",
      "A value is trying to be set on a copy of a slice from a DataFrame\n",
      "\n",
      "See the caveats in the documentation: https://pandas.pydata.org/pandas-docs/stable/user_guide/indexing.html#returning-a-view-versus-a-copy\n",
      "  data.estPARIS[i] = 1\n",
      "C:\\Users\\utilisateur\\AppData\\Local\\Temp\\ipykernel_6468\\2037176060.py:5: SettingWithCopyWarning: \n",
      "A value is trying to be set on a copy of a slice from a DataFrame\n",
      "\n",
      "See the caveats in the documentation: https://pandas.pydata.org/pandas-docs/stable/user_guide/indexing.html#returning-a-view-versus-a-copy\n",
      "  data.estBERLIN[i] = 0\n",
      "C:\\Users\\utilisateur\\AppData\\Local\\Temp\\ipykernel_6468\\2037176060.py:7: SettingWithCopyWarning: \n",
      "A value is trying to be set on a copy of a slice from a DataFrame\n",
      "\n",
      "See the caveats in the documentation: https://pandas.pydata.org/pandas-docs/stable/user_guide/indexing.html#returning-a-view-versus-a-copy\n",
      "  data.estBERLIN[i] = 1\n",
      "C:\\Users\\utilisateur\\AppData\\Local\\Temp\\ipykernel_6468\\2037176060.py:8: SettingWithCopyWarning: \n",
      "A value is trying to be set on a copy of a slice from a DataFrame\n",
      "\n",
      "See the caveats in the documentation: https://pandas.pydata.org/pandas-docs/stable/user_guide/indexing.html#returning-a-view-versus-a-copy\n",
      "  data.estPARIS[i] = 0\n",
      "C:\\Users\\utilisateur\\AppData\\Local\\Temp\\ipykernel_6468\\2037176060.py:10: SettingWithCopyWarning: \n",
      "A value is trying to be set on a copy of a slice from a DataFrame\n",
      "\n",
      "See the caveats in the documentation: https://pandas.pydata.org/pandas-docs/stable/user_guide/indexing.html#returning-a-view-versus-a-copy\n",
      "  data.estPARIS[i] = 0\n",
      "C:\\Users\\utilisateur\\AppData\\Local\\Temp\\ipykernel_6468\\2037176060.py:11: SettingWithCopyWarning: \n",
      "A value is trying to be set on a copy of a slice from a DataFrame\n",
      "\n",
      "See the caveats in the documentation: https://pandas.pydata.org/pandas-docs/stable/user_guide/indexing.html#returning-a-view-versus-a-copy\n",
      "  data.estBERLIN[i] = 0\n"
     ]
    },
    {
     "name": "stdout",
     "output_type": "stream",
     "text": [
      "   ville  année     temps  secondes  estPARIS  estBERLIN\n",
      "0  PARIS   2011  02:06:29      7589       1.0        0.0\n",
      "1  PARIS   2010  02:06:41      7601       1.0        0.0\n",
      "2  PARIS   2009  02:05:47      7547       1.0        0.0\n"
     ]
    }
   ],
   "source": [
    "# boucle pour définir si la ville est présente.Si elle est présente donc 1 dans estPARIS ou estBERLIN sinon 0 selon condition\n",
    "for i in range (len(data.ville)):\n",
    "    if data.ville[i] == \"PARIS\":\n",
    "        data.estPARIS[i] = 1\n",
    "        data.estBERLIN[i] = 0\n",
    "    elif data.ville[i] == \"BERLIN\":\n",
    "        data.estBERLIN[i] = 1\n",
    "        data.estPARIS[i] = 0\n",
    "    else:\n",
    "        data.estPARIS[i] = 0\n",
    "        data.estBERLIN[i] = 0\n",
    "        \n",
    "print(data.head(n=3))"
   ]
  },
  {
   "cell_type": "code",
   "execution_count": 5,
   "id": "12ff2f33",
   "metadata": {},
   "outputs": [
    {
     "data": {
      "text/plain": [
       "matrix([[  3.98807104],\n",
       "        [-13.47591572],\n",
       "        [-23.91576442]])"
      ]
     },
     "execution_count": 5,
     "metadata": {},
     "output_type": "execute_result"
    }
   ],
   "source": [
    "# tableau matrix\n",
    "y = np.matrix(data[['secondes']])\n",
    "x = np.matrix(data[['année','estPARIS','estBERLIN']])\n",
    "A = (x.T*x).I * x.T*y\n",
    "A"
   ]
  },
  {
   "cell_type": "code",
   "execution_count": 6,
   "id": "a7548ecb",
   "metadata": {},
   "outputs": [
    {
     "name": "stdout",
     "output_type": "stream",
     "text": [
      "Les coef a0 = 3.98807104335788 , a1 = -13.475915722747445 , a2 = -23.9157644168927\n"
     ]
    }
   ],
   "source": [
    "# Coef demandé = a0,a1,a2\n",
    "print(\"Les coef a0 = {0} , a1 = {1} , a2 = {2}\".format (A[0,0] , A[1,0] , A[2,0]))"
   ]
  },
  {
   "cell_type": "code",
   "execution_count": null,
   "id": "b4db800f",
   "metadata": {},
   "outputs": [],
   "source": []
  }
 ],
 "metadata": {
  "kernelspec": {
   "display_name": "Python 3 (ipykernel)",
   "language": "python",
   "name": "python3"
  },
  "language_info": {
   "codemirror_mode": {
    "name": "ipython",
    "version": 3
   },
   "file_extension": ".py",
   "mimetype": "text/x-python",
   "name": "python",
   "nbconvert_exporter": "python",
   "pygments_lexer": "ipython3",
   "version": "3.9.12"
  }
 },
 "nbformat": 4,
 "nbformat_minor": 5
}
